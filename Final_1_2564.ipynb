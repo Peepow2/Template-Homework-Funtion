{
  "nbformat": 4,
  "nbformat_minor": 0,
  "metadata": {
    "colab": {
      "name": "Final 1/2564.ipynb",
      "provenance": [],
      "collapsed_sections": []
    },
    "kernelspec": {
      "display_name": "Python 3",
      "name": "python3"
    },
    "language_info": {
      "name": "python"
    }
  },
  "cells": [
    {
      "cell_type": "markdown",
      "metadata": {
        "id": "L9hNibotW3Zh"
      },
      "source": [
        "<center>\n",
        "<h1>2110101 Computer Programming</h1>\n",
        "ข้อสอบปลายภาค ภาคการศึกษาต้น ปีการศึกษา 2564<br>2 ธันวาคม 2564 (8:30 - 11:30น.)\n",
        "</center>\n",
        "<hr>\n",
        "\n",
        "- ข้อมูลแบ่งเป็น คะแนนเต็ม 110 (แถม 10 คะแนน)\n",
        " - ตอนที่ 1 (20 คะแนน)\n",
        "   - คำถามเติมคำตอบ จำนวน 11 ข้อ\n",
        " - ตอนที่ 2 (90 คะแนน) โจทย์เขียนโปรแกรม 6 ข้อ ข้อละ 15 คะแนน\n",
        "- อนุญาตให้เปิดตำราและค้นข้อมูลได้\n",
        "- ห้ามสื่อสารกับผู้อื่น (ยกเว้นอาจารย์ผู้สอนและผู้คุมสอบ)\n",
        "- เมื่อหมดเวลา ให้บันทึกแฟ้ม และหยุดการพิมพ์ใด ๆ ทั้งสิ้น\n",
        "- นิสิตที่กระทำผิดเกี่ยวกับการสอบ ตามข้อบังคับจุฬาลงกรณ์มหาวิทยาลัย มีโทษคือได้รับสัญลักษณ์ F ในรายวิชานี้ และอาจพิจารณาให้ถอนรายวิชาอื่นที่ลงทะเบียนไว้ ในภาคการศึกษานี้"
      ]
    },
    {
      "cell_type": "code",
      "metadata": {
        "cellView": "form",
        "id": "kEdA986EXF2v"
      },
      "source": [
        "#@title เติมข้อมูลข้างล่างนี้ให้สมบูรณ์\n",
        "#@markdown ข้าพเจ้ายอมรับและยินดีปฏิบัติตามระเบียบการสอบ ข้าพเจ้ายืนยันว่าเป็นผู้ทำข้อสอบนี้ด้วยตนเองโดยมิได้รับความช่วยเหลือ หรือให้ความช่วยเหลือในการทำข้อสอบนี้ \n",
        "\n",
        "#@markdown พิมพ์ชื่อและนามสกุลในช่องว่างข้างล่างนี้\n",
        "\n",
        "ลงชื่อ = '' #@param {type:\"string\"}"
      ],
      "execution_count": null,
      "outputs": []
    },
    {
      "cell_type": "markdown",
      "metadata": {
        "id": "ujsSX-5sw4QZ"
      },
      "source": [
        "# ตอนที่ 1: คำถามเติมคำตอบ\n"
      ]
    },
    {
      "cell_type": "markdown",
      "metadata": {
        "id": "pDCYBLxEw4QZ"
      },
      "source": [
        "### คำถาม 1/11\n",
        "<pre>\n",
        "import numpy as np\n",
        "def f1(x, a, b): \n",
        "    # x เป็น 1-D numpy array of ints, a และ b เป็น int\n",
        "    return np.array([e for e in x if a <= e <= b])\n",
        "</pre>\n",
        "จงเติมคำสั่งในช่องว่างที่ขีดเส้นใต้ของฟังก์ชัน `f2` ข้างล่างนี้ เพื่อให้ `f2` ทำงานแล้วได้ผลลัพธ์เหมือน `f1` ข้างบน\n",
        "<pre>\n",
        "def f2(x, a, b):\n",
        "    return x[ _________________ ]\n",
        "</pre>"
      ]
    },
    {
      "cell_type": "code",
      "metadata": {
        "cellView": "form",
        "id": "LuIxKiq4w4QZ"
      },
      "source": [
        "#@title คำตอบ 1/11\n",
        "#@markdown เติมคำตอบแทนคำว่า None ข้างล่างนี้\n",
        "answer =  #@param {type:\"raw\"}"
      ],
      "execution_count": null,
      "outputs": []
    },
    {
      "cell_type": "markdown",
      "metadata": {
        "id": "T_1m-16aw4Qa"
      },
      "source": [
        "### คำถาม 2/11\n",
        "จงเติมคำสั่งในช่องว่างที่ขีดเส้นใต้ในโปรแกรมข้างล่างนี้\n",
        "```\n",
        "def f(R, C):\n",
        "    for i in range(R):\n",
        "        out = ''\n",
        "        for j in range(C):\n",
        "            n = ____________________\n",
        "            out += ('   ' + str(n))[-4:]\n",
        "        print(out)\n",
        "\n",
        "f(5, 10)\n",
        "```    \n",
        "เพื่อให้แสดงผลลัพธ์ข้างล่างนี้\n",
        "```\n",
        "  50  49  48  47  46  45  44  43  42  41\n",
        "  40  39  38  37  36  35  34  33  32  31\n",
        "  30  29  28  27  26  25  24  23  22  21\n",
        "  20  19  18  17  16  15  14  13  12  11\n",
        "  10   9   8   7   6   5   4   3   2   1\n",
        "```\n",
        "\n"
      ]
    },
    {
      "cell_type": "code",
      "metadata": {
        "cellView": "form",
        "id": "uTfGbb-zw4Qa"
      },
      "source": [
        "#@title คำตอบ 2/11\n",
        "#@markdown เติมคำตอบแทนคำว่า None ข้างล่างนี้\n",
        "answer =  #@param {type:\"raw\"}"
      ],
      "execution_count": null,
      "outputs": []
    },
    {
      "cell_type": "markdown",
      "metadata": {
        "id": "sqStghmRw4Qb"
      },
      "source": [
        "### คำถาม 3/11\n",
        "<pre>\n",
        "import numpy as np\n",
        "def f1(x): # x เป็น 1-D numpy array of floats\n",
        "    n = len(x)\n",
        "    p = np.ndarray((n,n))\n",
        "    for r in range(n):\n",
        "        for c in range(n):\n",
        "            p[r,c] = x[r]+x[c]\n",
        "    return p\n",
        "</pre>\n",
        "จงเติมคำสั่งในช่องว่างที่ขีดเส้นใต้ของฟังก์ชัน `f2` ข้างล่างนี้ เพื่อให้ `f2` ทำงานแล้วได้ผลลัพธ์เหมือน `f1` ข้างบน\n",
        "<pre>\n",
        "def f2(x):\n",
        "    a = ____________________\n",
        "    return x+a\n",
        "</pre>"
      ]
    },
    {
      "cell_type": "code",
      "metadata": {
        "cellView": "form",
        "id": "ifjH4V4yw4Qb"
      },
      "source": [
        "#@title คำตอบ 3/11\n",
        "#@markdown เติมคำตอบแทนคำว่า None ข้างล่างนี้\n",
        "answer =  #@param {type:\"raw\"}"
      ],
      "execution_count": null,
      "outputs": []
    },
    {
      "cell_type": "markdown",
      "metadata": {
        "id": "IW8Itk44w4Qb"
      },
      "source": [
        "### คำถาม 4/11\n",
        "ข้างล่างนี้คือโปรแกรมที่เก็บในแฟ้มชื่อ `final.py`\n",
        "<pre>\n",
        "f = open('final.py')\n",
        "c = 0\n",
        "for line in f:\n",
        "    # comment\n",
        "    if line.strip() != '':\n",
        "        c += 1\n",
        "\n",
        "f.close()\n",
        "print(c)\n",
        "</pre>\n",
        "เมื่อสั่งโปรแกรมข้างบนนี้ทำงาน จะแสดงอะไร"
      ]
    },
    {
      "cell_type": "code",
      "metadata": {
        "cellView": "form",
        "id": "alcZ0Zttw4Qc"
      },
      "source": [
        "#@title คำตอบ 4/11\n",
        "#@markdown เติมคำตอบแทนคำว่า None ข้างล่างนี้\n",
        "answer =  #@param {type:\"raw\"}"
      ],
      "execution_count": null,
      "outputs": []
    },
    {
      "cell_type": "markdown",
      "metadata": {
        "id": "pJf29aMcw4Qc"
      },
      "source": [
        "### คำถาม 5/11\n",
        "<pre>\n",
        "def f1(x): \n",
        "    c = []\n",
        "    for e in x:\n",
        "        if e.lower() not in 'aeiou':\n",
        "            c += [e]\n",
        "    return c\n",
        "</pre>\n",
        "จงเติมคำสั่งในช่องว่างที่ขีดเส้นใต้ของฟังก์ชัน `f2` ข้างล่างนี้ เพื่อให้ `f2` ทำงานแล้วได้ผลลัพธ์เหมือน `f1` ข้างบน\n",
        "<pre>\n",
        "def f2(x):\n",
        "    return _________________________\n",
        "</pre>"
      ]
    },
    {
      "cell_type": "code",
      "metadata": {
        "cellView": "form",
        "id": "dDQT2511w4Qc"
      },
      "source": [
        "#@title คำตอบ 5/11\n",
        "#@markdown เติมคำตอบแทนคำว่า None ข้างล่างนี้\n",
        "answer =  #@param {type:\"raw\"}"
      ],
      "execution_count": null,
      "outputs": []
    },
    {
      "cell_type": "markdown",
      "metadata": {
        "id": "Qf1cgjgDw4Qc"
      },
      "source": [
        "### คำถาม 6/11\n",
        "อยากทราบว่า <font size=+1>${  \\sum_{k=2}^{5}{ \\left ( \\sum_{j=1}^{6} {\\left ( {k^j}{(j-k)^k} \\right )} \\right )} }$</font> มีค่าเท่าไร\n"
      ]
    },
    {
      "cell_type": "code",
      "metadata": {
        "cellView": "form",
        "id": "1xKj1xIVw4Qd"
      },
      "source": [
        "#@title คำตอบ 6/11\n",
        "#@markdown เติมคำตอบแทนคำว่า None ข้างล่างนี้\n",
        "answer =  #@param {type:\"raw\"}"
      ],
      "execution_count": null,
      "outputs": []
    },
    {
      "cell_type": "markdown",
      "metadata": {
        "id": "GABQ4pJ7w4Qd"
      },
      "source": [
        "### คำถาม 7/11\n",
        "ให้ `d` เป็น dict ที่เก็บข้อมูล `{เลขประจำตัวนิสิต: ชื่อ}` จงเขียนคำสั่งในช่องว่างที่ขีดเส้นใต้ของฟังก์ชันข้างล่างนี้ เพื่อให้ฟังก์ชันนี้คืน dict ที่เก็บข้อมูล `{ชื่อ: เซตของเลขประจำตัวนิสิต}`\n",
        "\n",
        "หมายเหตุ: เลขประจำตัวหนึ่งต้องมีแค่ชื่อเดียว แต่ชื่อหนึ่งมีหลายเลขประจำตัวได้ (คนชื่อซ้ำกันมีมากมาย)\n",
        "<pre>\n",
        "def f(d):\n",
        "    x = {}\n",
        "    for k in d:\n",
        "        _______ = set()\n",
        "    for k in d:\n",
        "        for e in d[k]:\n",
        "            x[e].add(k)\n",
        "    return x\n",
        "</pre>"
      ]
    },
    {
      "cell_type": "code",
      "metadata": {
        "cellView": "form",
        "id": "TJOpKz0ow4Qd"
      },
      "source": [
        "#@title คำตอบ 7/11\n",
        "#@markdown เติมคำตอบแทนคำว่า None ข้างล่างนี้\n",
        "answer =  #@param {type:\"raw\"}"
      ],
      "execution_count": null,
      "outputs": []
    },
    {
      "cell_type": "markdown",
      "metadata": {
        "id": "Nqnd3EZ3w4Qd"
      },
      "source": [
        "### คำถาม 8/11\n",
        "<pre>\n",
        "import numpy as np\n",
        "def f1(x, a): \n",
        "    # x เป็น 1-D numpy array of ints, a เป็น int\n",
        "    g = np.sum(x)/x.shape[0]\n",
        "    for i in range(len(x)):\n",
        "        if x[i] == g: \n",
        "            x[i] = a\n",
        "</pre>\n",
        "จงเติมคำสั่งในช่องว่างที่ขีดเส้นใต้ของฟังก์ชัน `f2` ข้างล่างนี้ เพื่อให้ `f2` ทำงานแล้วได้ผลลัพธ์เหมือน `f1` ข้างบน\n",
        "<pre>\n",
        "def f2(x, a):\n",
        "    x[_______________] = a\n",
        "</pre>"
      ]
    },
    {
      "cell_type": "code",
      "metadata": {
        "cellView": "form",
        "id": "bnhy5Jzlw4Qd"
      },
      "source": [
        "#@title คำตอบ 8/11\n",
        "#@markdown เติมคำตอบแทนคำว่า None ข้างล่างนี้\n",
        "answer =  #@param {type:\"raw\"}"
      ],
      "execution_count": null,
      "outputs": []
    },
    {
      "cell_type": "markdown",
      "metadata": {
        "id": "pkYHIe31w4Qd"
      },
      "source": [
        "### คำถาม 9/11\n",
        "ให้ `d` เป็น dict ที่เก็บข้อมูล `{ชื่อ: ลิสต์ของเลขประจำตัวนิสิต}` จงเขียนคำสั่งในช่องว่างที่ขีดเส้นใต้ของฟังก์ชันข้างล่างนี้ เพื่อให้ฟังก์ชันนี้คืน list of lists ที่เก็บข้อมูล `[ [เลขประจำตัวนิสิต,ชื่อ], ...]`\n",
        "\n",
        "หมายเหตุ: เลขประจำตัวหนึ่งต้องมีแค่ชื่อเดียว แต่ชื่อหนึ่งมีหลายเลขประจำตัวได้ (คนชื่อซ้ำกันมีมากมาย)\n",
        "\n",
        "<pre>\n",
        "def f(d):\n",
        "    x = []\n",
        "    for k in d:\n",
        "        for e in d[k]:\n",
        "            ______________\n",
        "    return x\n",
        "</pre>"
      ]
    },
    {
      "cell_type": "code",
      "metadata": {
        "cellView": "form",
        "id": "w5qcMsT1w4Qd"
      },
      "source": [
        "#@title คำตอบ 9/11\n",
        "#@markdown เติมคำตอบแทนคำว่า None ข้างล่างนี้\n",
        "answer =  #@param {type:\"raw\"}"
      ],
      "execution_count": null,
      "outputs": []
    },
    {
      "cell_type": "markdown",
      "metadata": {
        "id": "NVsqDEzLw4Qe"
      },
      "source": [
        "### คำถาม 10/11\n",
        "<pre>\n",
        "class A: \n",
        "    def __init__(self, a, b):\n",
        "        self.s = [a,b]\n",
        "    def __str__(self):\n",
        "        return ':'.join([(' '+str(e))[-2:] for e in self.s])\n",
        "    def f(self):\n",
        "        return ______________________\n",
        "\n",
        "a1 = A(9,1)\n",
        "a2 = a1.f()\n",
        "a3 = a2.f()\n",
        "print(a1)\n",
        "print(a2)\n",
        "print(a3)\n",
        "</pre>\n",
        "จะต้องเติมคำสั่งอะไรในช่องว่างที่ขีดเส้นใต้ของโปรแกรมข้างบนนี้ หลังจากให้ทำงาน แล้วผลลัพธ์ที่ได้เป็นดังแสดงข้างล่างนี้\n",
        "<pre>\n",
        " 9: 1\n",
        " 1: 9\n",
        " 9: 1\n",
        "</pre>"
      ]
    },
    {
      "cell_type": "code",
      "metadata": {
        "cellView": "form",
        "id": "83RUQTzFw4Qe"
      },
      "source": [
        "#@title คำตอบ 10/11\n",
        "#@markdown เติมคำตอบแทนคำว่า None ข้างล่างนี้\n",
        "answer = None #@param {type:\"raw\"}"
      ],
      "execution_count": null,
      "outputs": []
    },
    {
      "cell_type": "markdown",
      "metadata": {
        "id": "qXaMeo_gw4Qe"
      },
      "source": [
        "### คำถาม 11/11\n",
        "<pre>\n",
        "class A: \n",
        "    def __init__(self, a, b):\n",
        "        self.s = [a,b]\n",
        "    def __str__(self):\n",
        "        return ':'.join([(' '+str(e))[-2:] for e in self.s])\n",
        "    def __lt__(self, a):\n",
        "        return _______________________\n",
        "\n",
        "a1 = A(9,0)\n",
        "a2 = A(-9,-1)\n",
        "a3 = A(3,4)\n",
        "a4 = A(-8,5)\n",
        "for a in sorted([a1,a2,a3,a4]):\n",
        "    print(a)\n",
        "</pre>\n",
        "จะต้องเติมคำสั่งอะไรในช่องว่างที่ขีดเส้นใต้ของโปรแกรมข้างบนนี้ หลังจากให้ทำงาน แล้วผลลัพธ์ที่ได้เป็นดังแสดงข้างล่างนี้\n",
        "<pre>\n",
        " 3: 4\n",
        "-9:-1\n",
        " 9: 0\n",
        "-8: 5\n",
        "</pre>"
      ]
    },
    {
      "cell_type": "code",
      "metadata": {
        "cellView": "form",
        "id": "V6O-Nt_Lw4Qe"
      },
      "source": [
        "#@title คำตอบ 11/11\n",
        "#@markdown เติมคำตอบแทนคำว่า None ข้างล่างนี้\n",
        "answer =  #@param {type:\"raw\"}"
      ],
      "execution_count": null,
      "outputs": []
    },
    {
      "cell_type": "markdown",
      "metadata": {
        "id": "X7z_Jtf4w4Qe"
      },
      "source": [
        "# ตอนที่ 2: เขียนโปรแกรม\n",
        ""
      ]
    },
    {
      "cell_type": "markdown",
      "metadata": {
        "id": "iTl-IM7Tw4Qe"
      },
      "source": [
        "## คำถาม 1/6\n"
      ]
    },
    {
      "cell_type": "markdown",
      "metadata": {
        "id": "zL_KE2GG02jC"
      },
      "source": [
        "### **Adding commas**\n",
        "จงเขียนโปรแกรมเพื่ออ่านสตริงจากแฟ้ม \"data.txt\" ซึ่งจะมีแต่ตัวเลข ตัวอักษรและช่องว่างเท่านั้น ให้โปรแกรมแสดงสตริงที่อ่านจากไฟล์บนหน้าจอ โดยให้ใส่ comma คั่นในจำนวนที่ไม่ได้ขึ้นต้นด้วยศูนย์ ตามหลักการเขียนจำนวนที่ใช้กันทั่วไปด้วย \n",
        "\n",
        "<table>\n",
        "<thead>\n",
        "  <tr>\n",
        "    <th>ข้อมูลในแฟ้ม data.txt</th>\n",
        "    <th>ผลลัพธ์ที่แสดงทางจอภาพที่ถูกต้อง</th>\n",
        "    <th>ผลลัพธ์ที่เกือบถูก (ถูกหัก 20%)</th>\n",
        "  </tr>\n",
        "</thead>\n",
        "<tbody>\n",
        "<tr>\n",
        "<td><pre>\n",
        "99523 plus 989 equals    100512\n",
        "My  number  is   0894435618\n",
        "</pre></td>\n",
        "<td><pre>\n",
        "99,523 plus 989 equals    100,512\n",
        "My  number  is   0894435618\n",
        "</pre></td>\n",
        "<td><pre>\n",
        "99,523 plus 989 equals 100,512\n",
        "My number is 0894435618\n",
        "</pre></td>\n",
        "</tr>\n",
        "</tbody>\n",
        "</table>\n",
        "\n",
        "## สำคัญมาก\n",
        "\n",
        "- เขียนโปรแกรมที่ต้องการส่งใน code cell ข้างล่างนี้เท่านั้น \n",
        "- ห้ามแก้ไขข้อความใน **บรรทัดแรก** โดยเต็ดขาด"
      ]
    },
    {
      "cell_type": "code",
      "metadata": {
        "id": "vvEScafX0M8p"
      },
      "source": [
        "# Adding_commas (DO NOT modify this line)\n",
        "\n",
        "# Put your code only in this code cell.\n",
        "\n",
        "\n",
        "\n",
        "\n",
        "\n",
        "\n",
        "\n",
        "\n",
        "\n",
        "\n",
        "\n",
        "\n",
        "\n",
        "\n",
        "\n"
      ],
      "execution_count": null,
      "outputs": []
    },
    {
      "cell_type": "markdown",
      "metadata": {
        "id": "d93gPbniw4Qe"
      },
      "source": [
        "## คำถาม 2/6\n"
      ]
    },
    {
      "cell_type": "markdown",
      "metadata": {
        "id": "PcEY60TS8F-7"
      },
      "source": [
        "### **PHONEBOOK**\n",
        "จงเขียนโปรแกรมรับข้อมูลหมายเลขโทรศัพท์ของผู้ใช้บริการซึ่งประกอบด้วย ชื่อ-สกุลและหมายเลขโทรศัพท์ เราสามารถรับข้อมูลชื่อ-สกุลเดิมที่มีหมายเลขโทรศัพท์อื่นเพิ่มได้ จากนั้นรับคำถามเพื่อค้นหมายเลขโทรศัพท์จากชื่อ-สกุลที่ให้ หรือค้นชื่อ-สกุล จากหมายเลขโทรศัพท์ที่ให้\n",
        "\n",
        "\n",
        "**ข้อมูลนำเข้า**\n",
        "\n",
        "บรรทัดแรกเป็นจำนวนเต็ม N\n",
        "\n",
        "N บรรทัดต่อมาเป็นข้อมูลผู้ใช้บริการ ประกอบด้วย ชื่อ นามสกุล และหมายเลขโทรศัพท์บ้านคั่นด้วยช่องว่าง \n",
        "บรรทัดที่ \n",
        "\n",
        "N+2 เป็นจำนวนเต็ม M \n",
        "\n",
        "M บรรทัดต่อมาเป็นชื่อ นามสกุล (กรณีที่ต้องการให้ค้นหมายเลขโทรศัพท์) หรือ เป็นหมายเลขโทรศัพท์ (กรณีที่ต้องการให้ค้นชื่อ-สกุล)\n",
        "\n",
        "**ข้อมูลส่งออก**\n",
        "\n",
        "หมายเลขโทรศัพท์ หรือชื่อ-สกุล ขึ้นกับคำถาม ถ้าหาไม่พบให้แสดง Not found  \n",
        "(โปรดระวังว่า ชื่อ-สกุลหนึ่งอาจมีหลายหมายเลขโทรศัพท์ และหมายเลขโทรศัพท์หนึ่งอาจมีหลายชื่อ-สกุล)\n",
        "\n",
        "## ตัวอย่าง\n",
        "<pre>\n",
        "<table align=left border=2>\n",
        "<tr><td>Input</td><td>Output</td></tr>\n",
        "<tr><td>6</td><td>02-222-2222 --> Anthony Stark, Henry Pym, Steven Rogers</td></tr> \n",
        "<tr><td>Anthony Stark 02-111-1111</td><td>Anthony Stark --> 02-111-1111, 02-222-2222</td></tr> \n",
        "<tr><td>Henry Pym 02-222-2222</td><td>Steven Rogers --> 02-222-2222</td></tr> \n",
        "<tr><td>Anthony Stark 02-222-2222\n",
        "</td><td>911 --> Not found</td></tr> \n",
        "<tr><td>Robert Banner 02-333-3333</td><td>02-444-4444 --> Robert Banner</td></tr> \n",
        "<tr><td>Robert Banner 02-444-4444</td><td>02-333-3333 --> Robert Banner</td></tr> \n",
        "<tr><td>Steven Rogers 02-222-2222</td><td></td></tr> \n",
        "<tr><td>6</td><td></td></tr> \n",
        "<tr><td>02-222-2222</td><td></td></tr> \n",
        "<tr><td>Anthony Stark</td><td></td></tr> \n",
        "<tr><td>Steven Rogers</td><td></td></tr> \n",
        "<tr><td>911</td><td></td></tr> \n",
        "<tr><td>02-222-2222</td><td></td></tr> \n",
        "<tr><td>02-333-3333</td><td></td></tr> \n",
        "\n",
        "</table>\n",
        "</pre>\n",
        "\n",
        "## **สำคัญมาก**\n",
        "- เขียนโปรแกรมที่ต้องการส่งใน code cell ข้างล่างนี้เท่านั้น \n",
        "- ห้ามแก้ไขข้อความใน **บรรทัดแรก** โดยเต็ดขาด"
      ]
    },
    {
      "cell_type": "code",
      "metadata": {
        "id": "BguhCBNN9ZyX"
      },
      "source": [
        "# Phonebook (DO NOT modify this line)\n",
        "\n",
        "# Put your code only in this code cell."
      ],
      "execution_count": null,
      "outputs": []
    },
    {
      "cell_type": "markdown",
      "metadata": {
        "id": "z1NDU9Gtw4Qf"
      },
      "source": [
        "## คำถาม 3/6\n"
      ]
    },
    {
      "cell_type": "markdown",
      "metadata": {
        "id": "yX-V29fhV4A3"
      },
      "source": [
        "### NESTED\n",
        "ให้เขียนฟังก์ชัน `pattern1(N)` ที่สร้างและคืนลิสต์ซ้อนลิสต์แทนตารางที่มีขนาด `N x N` โดย `N > 0` \n",
        "\n",
        "ตัวอย่าง\n",
        "`pattern1(5)` ได้\n",
        "```\n",
        " [[ 0,  0,  0,  0,  1],\n",
        "  [ 0,  0,  0,  2,  3],\n",
        "  [ 0,  0,  4,  5,  6],\n",
        "  [ 0,  7,  8,  9, 10],\n",
        "  [11, 12, 13, 14, 15]]\n",
        "```\n",
        "ให้เขียนฟังก์ชัน `pattern2(N)` ที่สร้างและคืนลิสต์ซ้อนลิสต์แทนตารางที่มีขนาด `N x N` โดย `N > 0` \n",
        "\n",
        "ตัวอย่าง\n",
        "`pattern2(5)` ได้\n",
        "```\n",
        "[[1,  6, 10, 13, 15],\n",
        " [2,  7, 11, 14,  0],\n",
        " [3,  8, 12,  0,  0],\n",
        " [4,  9,  0,  0,  0],\n",
        " [5,  0,  0,  0,  0]]\n",
        "```\n"
      ]
    },
    {
      "cell_type": "code",
      "metadata": {
        "id": "CRbzA6YhuiiD"
      },
      "source": [
        "# NESTED_10 (DO NOT modify this line)\n",
        "\n",
        "# Put your code only in this code cell.\n",
        "\n",
        "def pattern1(N):\n",
        "    return \n",
        "\n",
        "def pattern2(N):\n",
        "    return \n"
      ],
      "execution_count": null,
      "outputs": []
    },
    {
      "cell_type": "markdown",
      "metadata": {
        "id": "A4-dHg_Kw4Qf"
      },
      "source": [
        "## คำถาม 4/6\n"
      ]
    },
    {
      "cell_type": "markdown",
      "metadata": {
        "id": "NraUZjHVJ1mu"
      },
      "source": [
        "### **FIVB2021**\n",
        "วอลเลย์บอลหญิงเนชันส์ลีกปี 2021 ได้จัดการแข่งขันไปเมื่อต้นปีที่เมืองรีมีนีประเทศอิตาลี เป็นประเทศเจ้าภาพ ผลการแข่งขันในสองวันแรกเป็นดังนี้  \n",
        "กำหนดให้ข้อมูลนำเข้าแต่ละบรรทัด คือผลการแข่งขันในแต่ละแมทช์ ชื่อแรกคือทีมชนะ ชื่อถัดไปคือชื่อทีมที่แพ้ (ไม่มีเสมอ) แต่ละครั้งที่ทีมชนะในแต่ละแมทช์ ทีมนั้นจะได้ 3 คะแนน (points)\n",
        "\n",
        "```\n",
        "Netherlands Belgium\n",
        "Turkey Serbia\n",
        "Russia Germany\n",
        "Japan Thailand\n",
        "China Korea\n",
        "USA Dominican\n",
        "Poland Italy\n",
        "Brazil Canada\n",
        "Germany Netherlands\n",
        "Korea Thailand\n",
        "Japan China\n",
        "Russia Belgium\n",
        "Serbia Poland\n",
        "Brazil Dominican\n",
        "Turkey Italy\n",
        "USA Canada\n",
        "```\n",
        "\n",
        "โปรแกรมข้างล่างนี้ อาศัย dict ชื่อว่า ```FIVB``` มี key เป็นชื่อทีม และ value เก็บ set ของชื่อทีมที่แพ้ key ดังนั้น จากข้อมูลข้างบนนี้จะได้\n",
        "\n",
        "```python\n",
        "FIVB = { \n",
        "        'Netherlands': {'Belgium'},\n",
        "        'Turkey' : {'Serbia', 'Italy'},\n",
        "        'Russia' : {'Germany', 'Belgium'}\n",
        "        'Japan': {'Thailand', 'China'},\n",
        "        'China': {'Korea'},\n",
        "        'USA' : {'Dominican', 'Canada'},\n",
        "        'Poland' : {'Italy'}\n",
        "        'Brazil': {'Canada', 'Dominican'},\n",
        "        'Germany': {'Netherlands'},\n",
        "        'Korea': {'Thailand'},\n",
        "        'Serbia' : {'Poland'}\n",
        "     }\n",
        "```\n",
        "จงเขียนฟังก์ชัน ```wins(), get_all_teams(), calculate_points() และ read_fivb()``` ข้างล่างนี้ให้สมบูรณ์ตาม comment และการเก็บข้อมูลที่อธิบายข้างบนนี้\n",
        "\n",
        "## สำคัญมาก\n",
        "- เขียนโปรแกรมที่ต้องการส่งใน code cell ข้างล่างนี้เท่านั้น \n",
        "- ห้ามแก้ไขข้อความใน **บรรทัดแรก** และ code ที่ให้มาโดยเต็ดขาด\n"
      ]
    },
    {
      "cell_type": "code",
      "metadata": {
        "id": "41MuQDT4LPiZ"
      },
      "source": [
        "# FIVB2021 (DO NOT modify this line)\n",
        "\n",
        "# Put your code only in this code cell.\n",
        "\n",
        "def win(FIVB, t1, t2): \n",
        "    \n",
        "def get_all_teams(FIVB):\n",
        "    return \n",
        "    \n",
        "def calculate_points(FIVB):\n",
        "    return \n",
        "    \n",
        "def read_fivb() :\n",
        "    return \n",
        "    "
      ],
      "execution_count": null,
      "outputs": []
    },
    {
      "cell_type": "markdown",
      "metadata": {
        "id": "dXqX6AeCw4Qg"
      },
      "source": [
        "## คำถาม 5/6\n"
      ]
    },
    {
      "cell_type": "markdown",
      "metadata": {
        "id": "Ruz7bdAabAyJ"
      },
      "source": [
        "จงเขียนฟังก์ชัน `f1`, `f2` และ `f3` ข้างล่างนี้ รวมใน code cell ข้างล่างที่จัดไว้ให้\n",
        "\n",
        "- ห้ามใช้วงวน `for`, `while`, `map`, `reduce`, `itertools`, comprehension, recursive ในทุกฟังก์ชันของข้อนี้\n",
        "- ห้ามเปลี่ยนแปลงค่าของพารามิเตอร์ `x` ของทุกฟังก์ชันในข้อนี้\n",
        "`!$&`\n",
        "<pre>\n",
        "def f1(x):\n",
        "    # รับ x เป็น 1-D numpy array เก็บ floats (มีข้อมูลเกิน 2 ตัวแน่นอน)\n",
        "    # คืน True ถ้าข้อมูลใน x เรียงเป็นลำดับเลขคณิต (arithmetic sequence)\n",
        "    #   ถ้าไม่ใช่คืน False\n",
        "    # หมายเหตุ:\n",
        "    #   ถ้าไม่รู้ว่าลำดับเลขคณิตคืออะไร อ่าน https://en.wikipedia.org/wiki/Arithmetic_progression\n",
        "    #   ถ้าต้องการเปรียบเทียบสองจำนวน เช่น a กับ b ว่าเท่ากันหรือไม่\n",
        "    #     ให้เรียกใช้ฟังก์ชัน np.isclose(a, b) อย่าใช้ a == b \n",
        "    # ตัวอย่าง \n",
        "    #   f1(np.array([1., 3., 5., 7.])) คืน True\n",
        "    #   f1(np.array([-4., -4., -4.])) คืน True\n",
        "    #   f1(np.array([-0.5, 0, 0.5, 1.0])) คืน True\n",
        "    #   f1(np.array([3., 4., 5., 6., 8.])) คืน False\n",
        "</pre>\n",
        "<pre>\n",
        "def f2(x): \n",
        "    # รับ x เป็น 2-D numpy array เก็บ floats\n",
        "    # คืน 2-D numpy array ขนาดเท่ากับ x มีค่าเป็น moving average ของแต่ละแถวใน x\n",
        "    #   โดยแถวที่ r คอลัมน์ที่ c ของผลลัพธ์มีค่าเท่ากับ \n",
        "    #     ค่าเฉลี่ยของ x[r,c], x[r,c+1] และ x[r,c+2]\n",
        "    #     ถ้า ณ คอลัมน์ c ไม่มีคอลัมน์ทางขวา ก็ให้ผลลัพธ์เป็นค่าเท่ากับ x[r,c]\n",
        "    #     ถ้ามีคอลัมน์ c+1 แต่ไม่มีคอลัมน์ c+2 ก็ให้ผลลัพธ์เป็นค่าเฉลี่ยของ x[r,c] กับ x[r,c+1]\n",
        "    # ตัวอย่าง \n",
        "    #   f2(np.array([[1., 2., 3.,  4.], [5., 6., 7.,  8.]])) คืน\n",
        "    #      np.array([[2., 3., 3.5, 4.], [6., 7., 7.5, 8.]])\n",
        "    #   f2(np.array([[9.5]])) คืน np.array([[9.5]])\n",
        "</pre>\n",
        "<pre>\n",
        "def f3(x):\n",
        "    # รับ x เป็น 2-D numpy array เก็บ int \n",
        "    # คืน True ถ้า x เก็บค่า 0 และ 1 สลับกันคล้ายตารางหมากฮอส ดังตัวอย่างในรูปข้างล่าง\n",
        "    #   ถ้าไม่ใช่ ให้คืน False\n",
        "    # ตัวอย่าง \n",
        "    #   f3(np.array([[1]])) คืน True\n",
        "    #   f3(np.array([[0]])) คืน True\n",
        "    #   f3(np.array([[0,1],[1,0]])) คืน True\n",
        "    #   f3(np.array([[1,0],[0,1]])) คืน True\n",
        "    #   f3(np.array([[0,1,0,1],[1,0,1,0]])) คืน True\n",
        "    #   f3(np.array([[1,0,1],[0,1,0],[1,0,1],[0,1,0],[1,0,1]])) คืน True\n",
        "    #   f3(np.array([[1,9999,1],[0,1,0],[1,0,1]])) คืน False\n",
        "    #   f3(np.array([[1,0,1],[1,0,1]])) คืน False\n",
        "</pre>\n",
        "![image.png](data:image/png;base64,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)\n"
      ]
    },
    {
      "cell_type": "code",
      "metadata": {
        "id": "rbuDmEMiVY-a"
      },
      "source": [
        "# NUMPY (DO NOT modify this line)\n",
        "\n",
        "# Put your code only in this code cell.\n",
        "import numpy as np\n",
        "\n",
        "def f1(x):\n",
        "    return\n",
        "\n",
        "def f2(x): \n",
        "    return\n",
        "\n",
        "def f3(x):\n",
        "    return\n",
        "    \n",
        "\n"
      ],
      "execution_count": null,
      "outputs": []
    },
    {
      "cell_type": "markdown",
      "metadata": {
        "id": "jzz18HVZw4Qg"
      },
      "source": [
        "## คำถาม 6/6\n"
      ]
    },
    {
      "cell_type": "markdown",
      "metadata": {
        "id": "fY1_4z8J_oDC"
      },
      "source": [
        "### **Tweet_3**\n",
        "ให้เติมเมท็อดต่าง ๆ ตามข้อกำหนดด้านล่าง \n",
        "\n",
        "* Constructor รับ dictionary ของทวีตซึ่งมี key ดังนี้\n",
        "  * id เก็บข้อความเป็นรหัสของทวีต\n",
        "  * words เก็บลิสต์ของคำในทวีต\n",
        "  * time เก็บเวลาของทวีตในข้อความตามรูปแบบ 'YYYY-mm-dd HH:MM' \n",
        "  * user เป็นข้อความเก็บชื่อบัญชีของเจ้าของทวีต\n",
        "\n",
        "  นำค่าจากทวีตมาเก็บในตัวแปร id, words, time และ user ตามค่าจาก key ของทวีต  \n",
        "* ```__lt__(self,rhs)``` เป็นเมท็อดเปรียบเทียบจำนวนคำใน ```words``` หาก จำนวนคำของ ```self``` มากกว่า ให้คืนค่า ```True``` ไม่เช่นนั้นให้คืนค่า ```False``` หากจำนวนคำเท่ากัน ให้เปรียบเทียบตามเวลาของทวีตสองอัน หากเวลาของ ```self``` มาหลังเวลาของ ```rhs``` ให้คืนค่า ```True``` ไม่เช่นนั้นให้คืนค่า ```False``` \n",
        "* ```__str__(self)``` คืนค่าเป็นข้อความในรูปแบบ ```time: [user] words (id)``` โดยข้อความใน ```words``` จะนำข้อความจากลิสต์มาต่อกันคั่นด้วยเครื่องหมายเว้นวรรค \n",
        "* ```similarity(self,other)``` คืนค่าจำนวนคำที่ซ้ำกันของเซตของ ```words``` ใน ```self``` และใน ```others```\n",
        "\n",
        "นอกจากนี้ให้เขียนฟังก์ชันดังต่อไปนี้\n",
        "* ```find_similarity(tweets)``` รับค่าเป็นลิสต์ของทวีตและคืนค่าเป็นลิสต์ของทูเปิลที่มีสมาชิกตัวที่หนึ่งเป็นความคล้ายซึ่งคืนมาจากเมท็อด ```similarity``` สมาชิกตัวที่สองเป็นรหัสประจำตัวทวีตที่หนึ่ง (```id1```) และสมาชิกตัวที่สามเป็นรหัสประจำทวีตที่สอง (```id2```) ตามเงื่อนไขดังนี้\n",
        "  * การวัดความคล้ายให้วัดจากเมท็อด ```similarity``` ของทวีตเท่านั้น\n",
        "  * เรียงลำดับตามความคล้ายจากน้อยไปมาก\n",
        "  * ในกรณีความคล้ายเท่ากัน ให้เรียงตามลำดับตามรหัสประจำตัวทวีตตัวที่หนึ่งและตัวที่สองตามลำดับ \n",
        "  * ไม่คืนค่าความคล้ายของทวีตเดียวกัน \n",
        "  * ไม่คืนค่าของคู่ของทวีตที่สลับลำดับกัน หากมี ```id1``` กับ ```id2``` แล้ว ไม่ให้คืนค่า ```id2``` กับ ```id1``` และให้ใช้เป็นลำดับ ```id1,id2``` โดย ```id1 < id2``` เสมอ \n",
        "* ```show_tweets(tweets)``` รับลิสต์ของทวีต ให้พิมพ์ทวีตเรียงตามลำดับเงื่อนไขจากเมท็อด ```__lt__``` และพิมพ์ตามข้อความที่คืนมาจากเมท็อด ```__str__```\n",
        "\n",
        "## **ตัวอย่าง**\n",
        "\n",
        "หากมีชุดคำสั่ง\n",
        "\n",
        "```\n",
        "tw1=Tweet({'id':1,'user':'abc','words':['this','is','a','blockchain','made','from','scratch','in','~50','lines','of','python','code'],'time':'2021-11-18 16:38'})\n",
        "tw2=Tweet({'id':2,'user':'cdg','words':['javascript', 'java', 'python', 'php', 'and', 'their', 'learning', 'curves'],'time':'2021-11-06 14:28'})\n",
        "tw3=Tweet({'id':3,'user':'def123','words':['python', 'and', 'javascript'],'time':'2021-11-01 07:55'})\n",
        "tw4=Tweet({'id':4,'user':'def123','words':['java','and','python'],'time':'2021-11-01 07:56'})\n",
        "tweets=[tw1,tw2,tw3,tw4]\n",
        "\n",
        "tweets=[tw1,tw2,tw3,tw4]\n",
        "```\n",
        "\n",
        "* ```tw1.similarity(tw2)``` จะคืนค่า 1\n",
        "* ```tw2.similarity(tw3)``` จะคืนค่า 3\n",
        "* ```tw3.similarity(tw4)``` จะคืนค่า 2\n",
        "* ```find_similarity(tweets)``` จะคืนค่า \n",
        "```\n",
        "[(1, 1, 2), (1, 1, 3), (1, 1, 4), (2, 3, 4), (3, 2, 3), (3, 2, 4)]\n",
        " ```\n",
        "* ```show_tweets(tweets)``` จะแสดงข้อความ \n",
        "```\n",
        "2021-11-18 16:38: [abc] this is a blockchain made from scratch in ~50 lines of python code (1)\n",
        "2021-11-06 14:28: [cdg] javascript java python php and their learning curves (2)\n",
        "2021-11-01 07:56: [def123] java and python (4)\n",
        "2021-11-01 07:55: [def123] python and javascript (3)\n",
        "```\n",
        "\n",
        "## **สำคัญมาก**\n",
        "- เขียนโปรแกรมที่ต้องการส่งใน code cell ข้างล่างนี้เท่านั้น \n",
        "- ห้ามแก้ไขข้อความใน **บรรทัดแรก** โดยเต็ดขาด"
      ]
    },
    {
      "cell_type": "code",
      "metadata": {
        "id": "u0mdx2EJ_oDD"
      },
      "source": [
        "# Tweet_3 (DO NOT modify this line)\n",
        "\n",
        "# Put your code only in this code cell.\n",
        "class Tweet:\n",
        "  def __init__(self,tweet):\n",
        " \n",
        "\n",
        "\n",
        "\n",
        "  def __lt__(self,rhs):\n",
        "\n",
        "\n",
        "\n",
        "  def __str__(self):\n",
        "\n",
        "\n",
        "  def similarity(self,other):\n",
        "\n",
        "\n",
        "def find_similarity(tweets):\n",
        "\n",
        "\n",
        "\n",
        "\n",
        "\n",
        "\n",
        "\n",
        "def show_tweets(tweets):\n",
        "\n"
      ],
      "execution_count": null,
      "outputs": []
    }
  ]
}
